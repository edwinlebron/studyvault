{
 "cells": [
  {
   "cell_type": "markdown",
   "metadata": {},
   "source": [
    "Dentro de este Notebook, estoy trabajando con el EDA (Analisis Exporatorio de Datos)."
   ]
  },
  {
   "cell_type": "code",
   "execution_count": 461,
   "metadata": {},
   "outputs": [],
   "source": [
    "import pandas as pd\n",
    "import seaborn as sns\n",
    "\n",
    "#Librerias que nos ayudan a ejecutar codigo SQL sobre DTFRAME\n",
    "from sqlalchemy import engine\n",
    "from pandasql import sqldf\n",
    "\n",
    "#Esta funcion Lamda permite escribir funciones en SQL mucho mas facil.\n",
    "pysqldf=lambda q: sqldf (q, globals())\n",
    "\n",
    "\n",
    "#para exportar archivos en excel hay que instalar el siguiente modulo.\n",
    "# xlsxwriter"
   ]
  },
  {
   "cell_type": "code",
   "execution_count": 462,
   "metadata": {},
   "outputs": [],
   "source": [
    "#Leyendo el CSV.\n",
    "\n",
    "df=pd.read_csv('datos_google_ads.csv');"
   ]
  },
  {
   "cell_type": "markdown",
   "metadata": {},
   "source": [
    "Empezamos con el EDA. Exploratory Data Analitys"
   ]
  },
  {
   "cell_type": "code",
   "execution_count": 463,
   "metadata": {},
   "outputs": [
    {
     "data": {
      "text/plain": [
       "(405, 26)"
      ]
     },
     "execution_count": 463,
     "metadata": {},
     "output_type": "execute_result"
    }
   ],
   "source": [
    "#Como saber cuantas filas y columas tiene mi tabla \n",
    "df.shape"
   ]
  },
  {
   "cell_type": "code",
   "execution_count": 464,
   "metadata": {},
   "outputs": [],
   "source": [
    "#Como sacar los valores estadisticos de una tabla\n",
    "#df.describe()"
   ]
  },
  {
   "cell_type": "code",
   "execution_count": 465,
   "metadata": {},
   "outputs": [
    {
     "name": "stdout",
     "output_type": "stream",
     "text": [
      "Tienes 2 registros duplicados.\n"
     ]
    }
   ],
   "source": [
    "#Como saber si tenemos duplicados por por columnas.\n",
    "print(f\"Tienes {df['Keyword'].duplicated().sum()} registros duplicados.\")"
   ]
  },
  {
   "cell_type": "code",
   "execution_count": 466,
   "metadata": {},
   "outputs": [],
   "source": [
    "#Como eliminar los duplicados.\n",
    "df2=df.drop_duplicates()"
   ]
  },
  {
   "cell_type": "code",
   "execution_count": 467,
   "metadata": {},
   "outputs": [],
   "source": [
    "#quitar valores nulos por col.\n",
    "df3=df2.dropna(subset=['Competition (indexed value)'])"
   ]
  },
  {
   "cell_type": "code",
   "execution_count": 468,
   "metadata": {},
   "outputs": [
    {
     "data": {
      "text/plain": [
       "(240, 26)"
      ]
     },
     "execution_count": 468,
     "metadata": {},
     "output_type": "execute_result"
    }
   ],
   "source": [
    "df3.shape"
   ]
  },
  {
   "cell_type": "code",
   "execution_count": 469,
   "metadata": {},
   "outputs": [],
   "source": [
    "df4=df3.dropna(subset=['Top of page bid (low range)'])"
   ]
  },
  {
   "cell_type": "code",
   "execution_count": 470,
   "metadata": {},
   "outputs": [
    {
     "data": {
      "text/plain": [
       "(110, 26)"
      ]
     },
     "execution_count": 470,
     "metadata": {},
     "output_type": "execute_result"
    }
   ],
   "source": [
    "df4.shape"
   ]
  },
  {
   "cell_type": "markdown",
   "metadata": {},
   "source": [
    "Corriendo SQL en Python."
   ]
  },
  {
   "cell_type": "code",
   "execution_count": 471,
   "metadata": {},
   "outputs": [],
   "source": [
    "#primeri hay que cambiarle el nombre a las col que tienen espacio.\n",
    "df5=df4.rename(columns={\"Avg. monthly searches\": \"col1\",\"Currency\":\"MONEDA\"})\n"
   ]
  },
  {
   "cell_type": "code",
   "execution_count": 472,
   "metadata": {},
   "outputs": [],
   "source": [
    "q=\"\"\"\n",
    "select Keyword,\tMONEDA, DATE('now') as FechaHoraActual from df5\n",
    "\"\"\"\n",
    "\n",
    "df_export_aql=pysqldf(q)"
   ]
  },
  {
   "cell_type": "code",
   "execution_count": 473,
   "metadata": {},
   "outputs": [],
   "source": [
    "#Exportar el resultado en un CSV\n",
    "df_export_aql.to_excel(\"culitos.xlsx\", sheet_name='Sheet1', index=False)"
   ]
  }
 ],
 "metadata": {
  "kernelspec": {
   "display_name": "env_desa01",
   "language": "python",
   "name": "python3"
  },
  "language_info": {
   "codemirror_mode": {
    "name": "ipython",
    "version": 3
   },
   "file_extension": ".py",
   "mimetype": "text/x-python",
   "name": "python",
   "nbconvert_exporter": "python",
   "pygments_lexer": "ipython3",
   "version": "3.12.7"
  }
 },
 "nbformat": 4,
 "nbformat_minor": 2
}
